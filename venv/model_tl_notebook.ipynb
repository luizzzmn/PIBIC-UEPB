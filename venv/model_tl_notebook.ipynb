{
 "cells": [
  {
   "cell_type": "code",
   "execution_count": 4,
   "id": "8728c008",
   "metadata": {},
   "outputs": [],
   "source": [
    "import tensorflow as tf\n",
    "import matplotlib.pyplot as plt\n",
    "import numpy as np\n",
    "\n",
    "from tensorflow.keras import layers, models\n",
    "import kagglehub\n",
    "import os\n",
    "import pathlib\n",
    "from sklearn.model_selection import train_test_split"
   ]
  },
  {
   "cell_type": "code",
   "execution_count": 5,
   "id": "6b8d4308",
   "metadata": {},
   "outputs": [],
   "source": [
    "#CARREGANDO E PREPARANDO O DATASET\n",
    "path = kagglehub.dataset_download(\"rakibuleceruet/drowsiness-prediction-dataset\")\n",
    "data_dir = pathlib.Path(os.path.join(path, '0 FaceImages'))\n",
    "\n",
    "active_paths = list(data_dir.glob('Active Subjects/*.jpg'))\n",
    "active_labels = [0] * len(active_paths) # 0 para 'alerta'\n",
    "fatigue_paths = list(data_dir.glob('Fatigue Subjects/*.jpg'))\n",
    "fatigue_labels = [1] * len(fatigue_paths) # 1 para 'fadiga'\n",
    "\n",
    "all_image_paths = [str(p) for p in (active_paths + fatigue_paths)]\n",
    "all_labels = active_labels + fatigue_labels\n",
    "\n",
    "train_paths, val_paths, train_labels, val_labels = train_test_split(\n",
    "    all_image_paths, all_labels, test_size=0.2, random_state=42, stratify=all_labels\n",
    ")\n",
    "\n",
    "train_ds = tf.data.Dataset.from_tensor_slices((train_paths, train_labels))\n",
    "val_ds = tf.data.Dataset.from_tensor_slices((val_paths, val_labels))\n",
    "\n",
    "IMAGE_SIZE = (224, 224)\n",
    "BATCH_SIZE = 32\n",
    "AUTOTUNE = tf.data.AUTOTUNE\n",
    "\n",
    "def load_and_preprocess_image(path, label):\n",
    "    image = tf.io.read_file(path)\n",
    "    image = tf.io.decode_jpeg(image, channels=3)\n",
    "    image = tf.image.resize(image, IMAGE_SIZE)\n",
    "    return image, label\n",
    "\n",
    "train_dataset = train_ds.map(load_and_preprocess_image, num_parallel_calls=AUTOTUNE).cache().shuffle(len(train_paths)).batch(BATCH_SIZE).prefetch(AUTOTUNE)\n",
    "validation_dataset = val_ds.map(load_and_preprocess_image, num_parallel_calls=AUTOTUNE).batch(BATCH_SIZE).cache().prefetch(AUTOTUNE)\n"
   ]
  },
  {
   "cell_type": "code",
   "execution_count": 5,
   "id": "d55a0366",
   "metadata": {},
   "outputs": [
    {
     "name": "stdout",
     "output_type": "stream",
     "text": [
      "Modelo de Transfer Learning pronto\n",
      "\n",
      "Iniciando o treinamento do modelo de Transfer Learning...\n"
     ]
    },
    {
     "ename": "NameError",
     "evalue": "name 'train_dataset' is not defined",
     "output_type": "error",
     "traceback": [
      "\u001b[31m---------------------------------------------------------------------------\u001b[39m",
      "\u001b[31mNameError\u001b[39m                                 Traceback (most recent call last)",
      "\u001b[36mCell\u001b[39m\u001b[36m \u001b[39m\u001b[32mIn[5]\u001b[39m\u001b[32m, line 36\u001b[39m\n\u001b[32m     28\u001b[39m model_tl.compile(\n\u001b[32m     29\u001b[39m     optimizer=\u001b[33m'\u001b[39m\u001b[33madam\u001b[39m\u001b[33m'\u001b[39m,\n\u001b[32m     30\u001b[39m     loss=\u001b[33m'\u001b[39m\u001b[33mbinary_crossentropy\u001b[39m\u001b[33m'\u001b[39m,\n\u001b[32m     31\u001b[39m     metrics=[\u001b[33m'\u001b[39m\u001b[33maccuracy\u001b[39m\u001b[33m'\u001b[39m]\n\u001b[32m     32\u001b[39m )\n\u001b[32m     34\u001b[39m \u001b[38;5;28mprint\u001b[39m(\u001b[33m\"\u001b[39m\u001b[38;5;130;01m\\n\u001b[39;00m\u001b[33mIniciando o treinamento do modelo de Transfer Learning...\u001b[39m\u001b[33m\"\u001b[39m)\n\u001b[32m     35\u001b[39m history_tl = model_tl.fit(\n\u001b[32m---> \u001b[39m\u001b[32m36\u001b[39m     \u001b[43mtrain_dataset\u001b[49m,\n\u001b[32m     37\u001b[39m     epochs=\u001b[32m15\u001b[39m,\n\u001b[32m     38\u001b[39m     validation_data=validation_dataset\n\u001b[32m     39\u001b[39m )\n\u001b[32m     41\u001b[39m \u001b[38;5;28mprint\u001b[39m(\u001b[33m\"\u001b[39m\u001b[38;5;130;01m\\n\u001b[39;00m\u001b[33m--- Avaliação Final do Modelo de Transfer Learning ---\u001b[39m\u001b[33m\"\u001b[39m)\n\u001b[32m     42\u001b[39m val_loss_tl, val_acc_tl = model_tl.evaluate(validation_dataset, verbose=\u001b[32m2\u001b[39m)\n",
      "\u001b[31mNameError\u001b[39m: name 'train_dataset' is not defined"
     ]
    }
   ],
   "source": [
    "data_augmentation = tf.keras.Sequential([\n",
    "    tf.keras.layers.RandomFlip(\"horizontal\"),\n",
    "    tf.keras.layers.RandomRotation(0.1),\n",
    "    tf.keras.layers.RandomZoom(0.1),\n",
    "], name=\"data_augmentation\")\n",
    "\n",
    "# CARREGA O MODELO BASE MOBILENETV2 PRÉ-TREINADO\n",
    "base_model = tf.keras.applications.MobileNetV2(\n",
    "    input_shape=(224, 224, 3),\n",
    "    include_top=False,\n",
    "    weights='imagenet'\n",
    ")\n",
    "base_model.trainable = False # CONGELANDO OS PESOS DO MODELO\n",
    "\n",
    "# CAMADAS DE CLASSIFICAÇÃO \n",
    "inputs = tf.keras.Input(shape=(224, 224, 3))\n",
    "x = data_augmentation(inputs)\n",
    "x = tf.keras.applications.mobilenet_v2.preprocess_input(x)\n",
    "x = base_model(x, training=False)\n",
    "x = tf.keras.layers.GlobalAveragePooling2D()(x)\n",
    "x = tf.keras.layers.Dropout(0.2)(x)\n",
    "outputs = tf.keras.layers.Dense(1, activation='sigmoid')(x)\n",
    "\n",
    "model_tl = tf.keras.Model(inputs, outputs) \n",
    "\n",
    "print(\"Modelo de Transfer Learning pronto\")\n",
    "\n",
    "model_tl.compile(\n",
    "    optimizer='adam',\n",
    "    loss='binary_crossentropy',\n",
    "    metrics=['accuracy']\n",
    ")\n",
    "\n",
    "print(\"\\nIniciando o treinamento do modelo de Transfer Learning...\")\n",
    "history_tl = model_tl.fit(\n",
    "    train_dataset,\n",
    "    epochs=15,\n",
    "    validation_data=validation_dataset\n",
    ")\n",
    "\n",
    "print(\"\\n--- Avaliação Final do Modelo de Transfer Learning ---\")\n",
    "val_loss_tl, val_acc_tl = model_tl.evaluate(validation_dataset, verbose=2)\n",
    "print(f\"Acurácia final no conjunto de validação: {val_acc_tl * 100:.2f}%\")"
   ]
  },
  {
   "cell_type": "code",
   "execution_count": null,
   "id": "573b97ee",
   "metadata": {},
   "outputs": [
    {
     "ename": "NameError",
     "evalue": "name 'model_tl' is not defined",
     "output_type": "error",
     "traceback": [
      "\u001b[31m---------------------------------------------------------------------------\u001b[39m",
      "\u001b[31mNameError\u001b[39m                                 Traceback (most recent call last)",
      "\u001b[36mCell\u001b[39m\u001b[36m \u001b[39m\u001b[32mIn[11]\u001b[39m\u001b[32m, line 1\u001b[39m\n\u001b[32m----> \u001b[39m\u001b[32m1\u001b[39m \u001b[43mmodel_tl\u001b[49m.save(\u001b[33m'\u001b[39m\u001b[33mmodelo_transfer_learning.keras\u001b[39m\u001b[33m'\u001b[39m)\n\u001b[32m      2\u001b[39m \u001b[38;5;28mprint\u001b[39m(\u001b[33m\"\u001b[39m\u001b[38;5;130;01m\\n\u001b[39;00m\u001b[33mModelo de Transfer Learning salvo em \u001b[39m\u001b[33m'\u001b[39m\u001b[33mmodelo_transfer_learning.keras\u001b[39m\u001b[33m'\u001b[39m\u001b[33m\"\u001b[39m)\n\u001b[32m      5\u001b[39m loaded_model = tf.keras.models.load_model(\u001b[33m'\u001b[39m\u001b[33mmodelo_transfer_learning.keras\u001b[39m\u001b[33m'\u001b[39m)\n",
      "\u001b[31mNameError\u001b[39m: name 'model_tl' is not defined"
     ]
    }
   ],
   "source": [
    "model_tl.save('modelo_transfer_learning.keras')\n",
    "print(\"\\nModelo de Transfer Learning salvo em 'modelo_transfer_learning.keras'\")\n",
    "\n",
    "\n",
    "loaded_model = tf.keras.models.load_model('modelo_transfer_learning.keras')\n",
    "\n",
    "#EXTRATOR DE CARACTERÍSTICAS\n",
    "\n",
    "feature_extractor = tf.keras.Model(\n",
    "    inputs=loaded_model.input,\n",
    "    outputs=loaded_model.get_layer('global_average_pooling2d').output\n",
    "    )\n",
    "\n",
    "\n",
    "import pickle\n",
    "with open('history_transfer_learning.pkl', 'wb') as file:\n",
    "    pickle.dump(history_tl.history, file)\n",
    "    \n",
    "print(\"Modelo e histórico de treinamento salvos com sucesso!\")\n",
    "\n",
    "feature_extractor.summary()"
   ]
  }
 ],
 "metadata": {
  "kernelspec": {
   "display_name": "Python 3",
   "language": "python",
   "name": "python3"
  },
  "language_info": {
   "codemirror_mode": {
    "name": "ipython",
    "version": 3
   },
   "file_extension": ".py",
   "mimetype": "text/x-python",
   "name": "python",
   "nbconvert_exporter": "python",
   "pygments_lexer": "ipython3",
   "version": "3.13.2"
  }
 },
 "nbformat": 4,
 "nbformat_minor": 5
}
